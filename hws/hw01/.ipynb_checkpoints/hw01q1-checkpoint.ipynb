{
 "cells": [
  {
   "cell_type": "code",
   "execution_count": 15,
   "metadata": {},
   "outputs": [],
   "source": [
    "#!/usr/bin/python3\n",
    "'''\n",
    "Machine Learning homework 01 question 01\n",
    "'''\n",
    "'''\n",
    "count a list of words\n",
    "in: a list of str\n",
    "out a tuple:\n",
    "    list_of_count: a dictionary {word:count}\n",
    "    list_of_words: a ordered list of str\n",
    "'''\n",
    "\n",
    "def cunt_fun(list_words):\n",
    "    list_of_count = {}\n",
    "    list_of_words = []\n",
    "    for word in list_words:\n",
    "        if word in  list_of_count:\n",
    "            list_of_count[word] += 1\n",
    "        else:\n",
    "            list_of_count[word] = 1\n",
    "            list_of_words.append(word)\n",
    "    return list_of_count, list_of_words\n",
    "\n",
    "'''\n",
    "form to lines and output to a file\n",
    "in: fw the opened file handle to hold the anser\n",
    "    lst_cnt from cunt_fun\n",
    "    lst_words from cunt_fun\n",
    "    \n",
    "out: None \n",
    "'''\n",
    "def out_fun(fw,lst_cnt,lst_words):\n",
    "    index = 0\n",
    "    for word in lst_words:\n",
    "        if index == 0:\n",
    "            fw.writelines(word + \" \" + str(index) + \" \" + str(lst_cnt[word]))\n",
    "        else:\n",
    "            fw.writelines('\\n' + word + \" \" + str(index) + \" \" + str(lst_cnt[word]))\n",
    "        index += 1\n",
    "\n",
    "if __name__ == '__main__':\n",
    "    fwords = open('/Users/adam/WorkShop/machine learning/ML2017/hws/hw01/words.txt', 'r')\n",
    "    fq1 = open('/Users/adam/WorkShop/machine learning/ML2017/hws/hw01/Q1.txt', 'w')\n",
    "    str_of_words = fwords.read()\n",
    "    str_strip_eol = str_of_words.strip('\\n')\n",
    "    list_of_words = str_strip_eol.split(\" \")\n",
    "    lst_cnt, lst_words = cunt_fun(list_of_words)\n",
    "    out_fun(fq1,lst_cnt,lst_words)\n",
    "    fwords.close()\n",
    "    fq1.close()"
   ]
  },
  {
   "cell_type": "code",
   "execution_count": null,
   "metadata": {},
   "outputs": [],
   "source": []
  },
  {
   "cell_type": "code",
   "execution_count": null,
   "metadata": {},
   "outputs": [],
   "source": []
  },
  {
   "cell_type": "code",
   "execution_count": null,
   "metadata": {},
   "outputs": [],
   "source": []
  }
 ],
 "metadata": {
  "kernelspec": {
   "display_name": "Python 3",
   "language": "python",
   "name": "python3"
  },
  "language_info": {
   "codemirror_mode": {
    "name": "ipython",
    "version": 3
   },
   "file_extension": ".py",
   "mimetype": "text/x-python",
   "name": "python",
   "nbconvert_exporter": "python",
   "pygments_lexer": "ipython3",
   "version": "3.6.5"
  }
 },
 "nbformat": 4,
 "nbformat_minor": 2
}
